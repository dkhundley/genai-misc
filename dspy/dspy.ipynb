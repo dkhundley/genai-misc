{
 "cells": [
  {
   "cell_type": "markdown",
   "metadata": {},
   "source": [
    "# DSPy\n",
    "In this notebook, we'll be exploring a prompt optimization framework called DSPy."
   ]
  },
  {
   "cell_type": "markdown",
   "metadata": {},
   "source": [
    "## Notebook Setup"
   ]
  },
  {
   "cell_type": "code",
   "execution_count": 14,
   "metadata": {},
   "outputs": [
    {
     "name": "stderr",
     "output_type": "stream",
     "text": [
      "/home/vscode/.local/lib/python3.11/site-packages/tqdm/auto.py:21: TqdmWarning: IProgress not found. Please update jupyter and ipywidgets. See https://ipywidgets.readthedocs.io/en/stable/user_install.html\n",
      "  from .autonotebook import tqdm as notebook_tqdm\n"
     ]
    }
   ],
   "source": [
    "# Importing the necessary Python libraries\n",
    "import os\n",
    "import json\n",
    "\n",
    "import numpy as np\n",
    "import pandas as pd\n",
    "\n",
    "import dspy\n",
    "from langchain.vectorstores import FAISS\n",
    "from langchain_community.document_loaders import DataFrameLoader\n",
    "from langchain_openai import OpenAIEmbeddings"
   ]
  },
  {
   "cell_type": "code",
   "execution_count": 8,
   "metadata": {},
   "outputs": [],
   "source": [
    "# Initializing the OpenAI embeddings\n",
    "embeddings = OpenAIEmbeddings()"
   ]
  },
  {
   "cell_type": "code",
   "execution_count": 2,
   "metadata": {},
   "outputs": [],
   "source": [
    "# Loading our sample questions and answers associated to our knowledge item project\n",
    "df_ki_qas = pd.read_csv('synthetic_knowledge_items_with_qas.csv')\n"
   ]
  },
  {
   "cell_type": "code",
   "execution_count": 10,
   "metadata": {
    "vscode": {
     "languageId": "ruby"
    }
   },
   "outputs": [],
   "source": [
    "# Checking if the FAISS index file already exists\n",
    "if os.path.exists('faiss_kis.index'):\n",
    "\n",
    "    # Loading the FAISS KIs index from the file\n",
    "    faiss_kis_index = FAISS.load_local('faiss_kis.index', embeddings, allow_dangerous_deserialization = True)\n",
    "\n",
    "else:\n",
    "\n",
    "    # Extracting the relevant columns\n",
    "    df_relevant = df_ki_qas[['ki_topic', 'ki_text']]\n",
    "\n",
    "    # Creating LangChain documents using DataFrameLoader\n",
    "    documents = DataFrameLoader(df_relevant, page_content_column = 'ki_text').load()\n",
    "\n",
    "    # Creating the FAISS KIs index\n",
    "    faiss_kis_index = FAISS.from_documents(documents, embeddings)\n",
    "\n",
    "    # Saving the FAISS KIs index to a file\n",
    "    faiss_kis_index.save_local('faiss_kis.index')"
   ]
  },
  {
   "cell_type": "code",
   "execution_count": 15,
   "metadata": {},
   "outputs": [],
   "source": [
    "class FAISSDSPyRetriever(dspy.Retrieve):\n",
    "    \n",
    "    def __init__(self, faiss_index, embeddings, k = 2):\n",
    "        super().__init__()\n",
    "        self.index = faiss_index\n",
    "        self.embeddings = embeddings\n",
    "        self.k = k\n",
    "\n",
    "    def forward(self, query):\n",
    "        \n",
    "        # Embedding the input query\n",
    "        query_embeding = self.embeddings.embed_query(query)\n",
    "\n",
    "        # Generating the similarity scores and indices of the top k most similar knowledge items\n",
    "        scores, indices = self.index.search(query_embeding, self.k)\n",
    "\n",
    "        # Converting the FAISS results to DSPy passages format\n",
    "        passages = [self.get_document(idx) for idx in indices]"
   ]
  },
  {
   "cell_type": "code",
   "execution_count": null,
   "metadata": {},
   "outputs": [],
   "source": [
    "class RAGWithFAISS(dspy.Module):\n",
    "\n",
    "    def __init__(self, faiss_retriever):\n",
    "        super().__init__()\n",
    "        self.retrieve = faiss_retriever\n",
    "        self.generate_answer = dspy.ChainOfThought(\"context, question -> answer\")\n",
    "\n",
    "    def forward(self, question):\n",
    "\n",
    "        # Retrieving the context passages using the FAISS retriever\n",
    "        context = self.retrieve(question).passages\n",
    "        \n",
    "        # Generating the answer using the ChainOfThought model\n",
    "        prediction = self.generate_answer(context = context, question = question)\n",
    "\n",
    "        return dspy.Prediction(answer = prediction.answer)"
   ]
  }
 ],
 "metadata": {
  "kernelspec": {
   "display_name": "Python 3",
   "language": "python",
   "name": "python3"
  },
  "language_info": {
   "codemirror_mode": {
    "name": "ipython",
    "version": 3
   },
   "file_extension": ".py",
   "mimetype": "text/x-python",
   "name": "python",
   "nbconvert_exporter": "python",
   "pygments_lexer": "ipython3",
   "version": "3.11.10"
  }
 },
 "nbformat": 4,
 "nbformat_minor": 2
}
