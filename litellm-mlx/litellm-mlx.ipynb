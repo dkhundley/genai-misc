{
 "cells": [
  {
   "cell_type": "code",
   "execution_count": 2,
   "metadata": {},
   "outputs": [
    {
     "name": "stderr",
     "output_type": "stream",
     "text": [
      "Fetching 7 files: 100%|██████████| 7/7 [00:00<00:00, 201096.77it/s]\n"
     ]
    }
   ],
   "source": [
    "from mlx_lm import load, generate\n",
    "import litellm\n",
    "from litellm import CustomLLM, ModelResponse, completion\n",
    "\n",
    "class MLXLiteLLM(CustomLLM):\n",
    "\n",
    "    def __init__(self, mlx_model_name):\n",
    "        super().__init__()\n",
    "        self.mlx_model_name = mlx_model_name\n",
    "        self.model, self.tokenizer = load(self.mlx_model_name)\n",
    "\n",
    "\n",
    "    def completion(self, *args, **kwargs) -> ModelResponse:\n",
    "        # LiteLLM passes messages parameter instead of prompt\n",
    "        if \"messages\" in kwargs:\n",
    "            messages = kwargs[\"messages\"]\n",
    "        elif \"prompt\" in kwargs:\n",
    "            # Fallback for direct calls with prompt\n",
    "            messages = [{\"role\": \"user\", \"content\": kwargs[\"prompt\"]}]\n",
    "        else:\n",
    "            raise ValueError(\"Either 'messages' or 'prompt' must be provided\")\n",
    "            \n",
    "        prompt = self.tokenizer.apply_chat_template(\n",
    "            messages, add_generation_prompt=True\n",
    "        )\n",
    "\n",
    "        text = generate(self.model, self.tokenizer, prompt=prompt)\n",
    "\n",
    "        return ModelResponse(\n",
    "            model = self.mlx_model_name,\n",
    "            completion = text\n",
    "        )\n",
    "    \n",
    "mlx_litellm = MLXLiteLLM(mlx_model_name = \"mlx-community/Mistral-7B-Instruct-v0.3-4bit\")\n",
    "\n",
    "litellm.custom_provider_map = [\n",
    "    {\"provider\": \"mlx-litellm\", \"custom_handler\": mlx_litellm}\n",
    "]\n",
    "\n",
    "resp = completion(\n",
    "    model = 'mlx-litellm/my-model',\n",
    "    messages = [{\"role\": \"user\", \"content\": \"What is the capital of Illinois?\"}]\n",
    ")"
   ]
  },
  {
   "cell_type": "code",
   "execution_count": 3,
   "metadata": {},
   "outputs": [
    {
     "data": {
      "text/plain": [
       "ModelResponse(id='chatcmpl-46d8b5c7-1150-42e6-94cc-d95b77f599a1', created=1741726996, model='mlx-community/Mistral-7B-Instruct-v0.3-4bit', object='chat.completion', system_fingerprint=None, choices=[Choices(finish_reason='stop', index=0, message=Message(content=None, role='assistant', tool_calls=None, function_call=None, provider_specific_fields=None))], usage=Usage(completion_tokens=0, prompt_tokens=0, total_tokens=0, completion_tokens_details=None, prompt_tokens_details=None), completion='The capital of Illinois is Springfield. It has been the capital since Illinois became a state in 1818. Springfield is located in the central part of the state.')"
      ]
     },
     "execution_count": 3,
     "metadata": {},
     "output_type": "execute_result"
    }
   ],
   "source": [
    "resp"
   ]
  },
  {
   "cell_type": "code",
   "execution_count": 1,
   "metadata": {},
   "outputs": [
    {
     "name": "stderr",
     "output_type": "stream",
     "text": [
      "/Users/dkhundley/Documents/Repositories/genai-misc/.venv/lib/python3.12/site-packages/tqdm/auto.py:21: TqdmWarning: IProgress not found. Please update jupyter and ipywidgets. See https://ipywidgets.readthedocs.io/en/stable/user_install.html\n",
      "  from .autonotebook import tqdm as notebook_tqdm\n",
      "Fetching 7 files: 100%|██████████| 7/7 [00:00<00:00, 180123.48it/s]\n"
     ]
    },
    {
     "name": "stdout",
     "output_type": "stream",
     "text": [
      "==========\n",
      "Title: A Brush with Genius: The Encounter of the Young Artist and Albert Einstein\n",
      "\n",
      "In the quaint town of Bern, Switzerland, nestled amidst the picturesque Alps, lived a young, aspiring artist named Max. Max was a peculiar child, not because of his artistic talents, but because of his insatiable curiosity and an unusual friend.\n",
      "\n",
      "Max's friend was none other than Albert Einstein, the renowned physicist who would one day change the world with his theory of relativity. At the time, however, Einstein was just a humble patent clerk, struggling to make ends meet.\n",
      "\n",
      "Max and Einstein shared a unique bond. Every day, Max would visit Einstein at the patent office, where Einstein would explain his complex theories and equations to Max, who would then attempt to illustrate them in his art. Max found beauty in Einstein's work, and Einstein found clarity in Max's interpretation.\n",
      "\n",
      "One day, as Max was sketching Einstein's latest equation, he found himself stuck. The equation was complex, and Max struggled to capture its essence. Frustrated, he looked up at Einstein, who was engrossed in his work.\n",
      "\n",
      "\"Albert,\"\n",
      "==========\n",
      "Prompt: 10 tokens, 35.305 tokens-per-sec\n",
      "Generation: 256 tokens, 21.964 tokens-per-sec\n",
      "Peak memory: 4.178 GB\n"
     ]
    },
    {
     "data": {
      "text/plain": [
       "'Title: A Brush with Genius: The Encounter of the Young Artist and Albert Einstein\\n\\nIn the quaint town of Bern, Switzerland, nestled amidst the picturesque Alps, lived a young, aspiring artist named Max. Max was a peculiar child, not because of his artistic talents, but because of his insatiable curiosity and an unusual friend.\\n\\nMax\\'s friend was none other than Albert Einstein, the renowned physicist who would one day change the world with his theory of relativity. At the time, however, Einstein was just a humble patent clerk, struggling to make ends meet.\\n\\nMax and Einstein shared a unique bond. Every day, Max would visit Einstein at the patent office, where Einstein would explain his complex theories and equations to Max, who would then attempt to illustrate them in his art. Max found beauty in Einstein\\'s work, and Einstein found clarity in Max\\'s interpretation.\\n\\nOne day, as Max was sketching Einstein\\'s latest equation, he found himself stuck. The equation was complex, and Max struggled to capture its essence. Frustrated, he looked up at Einstein, who was engrossed in his work.\\n\\n\"Albert,\"'"
      ]
     },
     "execution_count": 1,
     "metadata": {},
     "output_type": "execute_result"
    }
   ],
   "source": [
    "from mlx_lm import load, generate\n",
    "\n",
    "model, tokenizer = load(\"mlx-community/Mistral-7B-Instruct-v0.3-4bit\")\n",
    "\n",
    "prompt = \"Write a story about Einstein\"\n",
    "\n",
    "messages = [{\"role\": \"user\", \"content\": prompt}]\n",
    "prompt = tokenizer.apply_chat_template(\n",
    "    messages, add_generation_prompt=True\n",
    ")\n",
    "\n",
    "text = generate(model, tokenizer, prompt=prompt, verbose=True)\n",
    "text"
   ]
  },
  {
   "cell_type": "code",
   "execution_count": null,
   "metadata": {},
   "outputs": [],
   "source": [
    "text"
   ]
  },
  {
   "cell_type": "code",
   "execution_count": null,
   "metadata": {},
   "outputs": [],
   "source": []
  }
 ],
 "metadata": {
  "kernelspec": {
   "display_name": "genai_misc_venv",
   "language": "python",
   "name": "genai_misc_venv"
  },
  "language_info": {
   "codemirror_mode": {
    "name": "ipython",
    "version": 3
   },
   "file_extension": ".py",
   "mimetype": "text/x-python",
   "name": "python",
   "nbconvert_exporter": "python",
   "pygments_lexer": "ipython3",
   "version": "3.12.9"
  }
 },
 "nbformat": 4,
 "nbformat_minor": 2
}
