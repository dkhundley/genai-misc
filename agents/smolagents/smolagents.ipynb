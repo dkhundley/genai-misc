{
 "cells": [
  {
   "cell_type": "markdown",
   "id": "07075a41",
   "metadata": {},
   "source": [
    "# smolagents"
   ]
  },
  {
   "cell_type": "markdown",
   "id": "649862c0",
   "metadata": {},
   "source": [
    "## Notebook Setup"
   ]
  },
  {
   "cell_type": "code",
   "execution_count": 1,
   "id": "a1bf9734",
   "metadata": {},
   "outputs": [
    {
     "name": "stderr",
     "output_type": "stream",
     "text": [
      "/Users/dkhundley/Documents/Repositories/genai-misc/.venv/lib/python3.12/site-packages/tqdm/auto.py:21: TqdmWarning: IProgress not found. Please update jupyter and ipywidgets. See https://ipywidgets.readthedocs.io/en/stable/user_install.html\n",
      "  from .autonotebook import tqdm as notebook_tqdm\n"
     ]
    }
   ],
   "source": [
    "# Importing the necessary Python libraries\n",
    "import yaml\n",
    "from smolagents import CodeAgent, LiteLLMModel"
   ]
  },
  {
   "cell_type": "code",
   "execution_count": 2,
   "id": "61d12f3f",
   "metadata": {},
   "outputs": [],
   "source": [
    "# Loading the API key from file\n",
    "with open('../../keys/api_keys.yaml', 'r') as f:\n",
    "    API_KEYS = yaml.safe_load(f)"
   ]
  },
  {
   "cell_type": "code",
   "execution_count": null,
   "id": "1eea7a48",
   "metadata": {},
   "outputs": [],
   "source": []
  }
 ],
 "metadata": {
  "kernelspec": {
   "display_name": "genai_misc_venv",
   "language": "python",
   "name": "genai_misc_venv"
  },
  "language_info": {
   "codemirror_mode": {
    "name": "ipython",
    "version": 3
   },
   "file_extension": ".py",
   "mimetype": "text/x-python",
   "name": "python",
   "nbconvert_exporter": "python",
   "pygments_lexer": "ipython3",
   "version": "3.12.9"
  }
 },
 "nbformat": 4,
 "nbformat_minor": 5
}
