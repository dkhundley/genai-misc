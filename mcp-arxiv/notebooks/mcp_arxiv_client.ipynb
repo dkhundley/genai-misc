{
 "cells": [
  {
   "cell_type": "code",
   "execution_count": 50,
   "id": "57c6d8d4",
   "metadata": {},
   "outputs": [
    {
     "name": "stdout",
     "output_type": "stream",
     "text": [
      "Available prompts: ['generate_search_prompt']\n",
      "Prompt name: generate_search_prompt, Description: \n",
      "    Generate a prompt for Claude to find and discuss academic papers on a specific topic.\n",
      "    , Args: [PromptArgument(name='topic', description=None, required=True), PromptArgument(name='num_papers', description=None, required=False)]\n",
      "Available resources: [AnyUrl('papers://folders')]\n",
      "Available tools: ['search_papers', 'extract_info']\n"
     ]
    }
   ],
   "source": [
    "from mcp import ClientSession, StdioServerParameters, types\n",
    "from mcp.client.stdio import stdio_client\n",
    "\n",
    "\n",
    "server_params = StdioServerParameters(\n",
    "    command=\"python\",\n",
    "    args=[\"../src/mcp_arxiv_server.py\"],\n",
    "    env=None\n",
    ")\n",
    "\n",
    "async with stdio_client(server_params) as (read, write):\n",
    "    async with ClientSession(read, write) as session:\n",
    "        await session.initialize()\n",
    "        try:\n",
    "            prompts = await session.list_prompts()\n",
    "            print(f\"Available prompts: {[p.name for p in prompts.prompts]}\")\n",
    "\n",
    "            for prompt in prompts.prompts:\n",
    "                prompt_name = prompt.name\n",
    "                prompt_description = prompt.description\n",
    "                prompt_args = prompt.arguments\n",
    "                prompt_template = await session.get_prompt(\n",
    "                    name = prompt.name,\n",
    "                    arguments = {'topic': '<PLACEHOLDER>'}\n",
    "                )\n",
    "                print(f\"Prompt name: {prompt.name}, Description: {prompt.description}, Args: {prompt.arguments}\")\n",
    "\n",
    "            resources = await session.list_resources()\n",
    "            print(f\"Available resources: {[r.uri for r in resources.resources]}\")\n",
    "\n",
    "            tools = await session.list_tools()\n",
    "            print(f\"Available tools: {[t.name for t in tools.tools]}\")\n",
    "        except Exception as e:\n",
    "            print(f\"Error calling list_tools: {e}\")"
   ]
  },
  {
   "cell_type": "code",
   "execution_count": 63,
   "id": "2fd0167c",
   "metadata": {},
   "outputs": [
    {
     "data": {
      "text/plain": [
       "\"Search for 5 academic papers about '<PLACEHOLDER>' using the search_papers tool. Follow these instructions:\\n    1. First, search for papers using search_papers(topic='<PLACEHOLDER>', max_results=5)\\n    2. For each paper found, extract and organize the following information:\\n       - Paper title\\n       - Authors\\n       - Publication date\\n       - Brief summary of the key findings\\n       - Main contributions or innovations\\n       - Methodologies used\\n       - Relevance to the topic '<PLACEHOLDER>'\\n    \\n    3. Provide a comprehensive summary that includes:\\n       - Overview of the current state of research in '<PLACEHOLDER>'\\n       - Common themes and trends across the papers\\n       - Key research gaps or areas for future investigation\\n       - Most impactful or influential papers in this area\\n    \\n    4. Organize your findings in a clear, structured format with headings and bullet points for easy readability.\\n    \\n    Please present both detailed information about each paper and a high-level synthesis of the research landscape in <PLACEHOLDER>.\""
      ]
     },
     "execution_count": 63,
     "metadata": {},
     "output_type": "execute_result"
    }
   ],
   "source": [
    "prompt_template.messages[0].content.text"
   ]
  },
  {
   "cell_type": "code",
   "execution_count": null,
   "id": "657364ee",
   "metadata": {},
   "outputs": [],
   "source": []
  }
 ],
 "metadata": {
  "language_info": {
   "name": "python"
  }
 },
 "nbformat": 4,
 "nbformat_minor": 5
}
