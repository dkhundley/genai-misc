{
 "cells": [
  {
   "cell_type": "markdown",
   "metadata": {},
   "source": [
    "# Generating Sample Data for DSPy"
   ]
  },
  {
   "cell_type": "markdown",
   "metadata": {},
   "source": [
    "## Notebook Setup"
   ]
  },
  {
   "cell_type": "code",
   "execution_count": 2,
   "metadata": {},
   "outputs": [],
   "source": [
    "# Importing the necessary Python libraries\n",
    "import os\n",
    "\n",
    "import pandas as pd\n",
    "\n",
    "from langchain_core.prompts import ChatPromptTemplate, HumanMessagePromptTemplate\n",
    "from langchain_openai import ChatOpenAI"
   ]
  },
  {
   "cell_type": "code",
   "execution_count": 5,
   "metadata": {},
   "outputs": [],
   "source": [
    "# Loading in the synthetic knowledge items\n",
    "df_kis = pd.read_csv('synthetic_knowledge_items.csv')\n",
    "df_kis = df_kis[['ki_topic', 'ki_text']]"
   ]
  },
  {
   "cell_type": "code",
   "execution_count": 11,
   "metadata": {},
   "outputs": [
    {
     "ename": "KeyError",
     "evalue": "'PERPLEXITY_API_KEY'",
     "output_type": "error",
     "traceback": [
      "\u001b[0;31m---------------------------------------------------------------------------\u001b[0m",
      "\u001b[0;31mKeyError\u001b[0m                                  Traceback (most recent call last)",
      "Cell \u001b[0;32mIn[11], line 2\u001b[0m\n\u001b[1;32m      1\u001b[0m \u001b[38;5;66;03m# Instantiating the chat model\u001b[39;00m\n\u001b[0;32m----> 2\u001b[0m chat_model \u001b[38;5;241m=\u001b[39m ChatOpenAI(api_key \u001b[38;5;241m=\u001b[39m \u001b[43mos\u001b[49m\u001b[38;5;241;43m.\u001b[39;49m\u001b[43menviron\u001b[49m\u001b[43m[\u001b[49m\u001b[38;5;124;43m'\u001b[39;49m\u001b[38;5;124;43mPERPLEXITY_API_KEY\u001b[39;49m\u001b[38;5;124;43m'\u001b[39;49m\u001b[43m]\u001b[49m,\n\u001b[1;32m      3\u001b[0m                         base_url \u001b[38;5;241m=\u001b[39m \u001b[38;5;124m'\u001b[39m\u001b[38;5;124mhttps://api.perplexity.ai\u001b[39m\u001b[38;5;124m'\u001b[39m,\n\u001b[1;32m      4\u001b[0m                         model \u001b[38;5;241m=\u001b[39m \u001b[38;5;124m'\u001b[39m\u001b[38;5;124mllama-3.1-70b-instruct\u001b[39m\u001b[38;5;124m'\u001b[39m)\n",
      "File \u001b[0;32m<frozen os>:679\u001b[0m, in \u001b[0;36m__getitem__\u001b[0;34m(self, key)\u001b[0m\n",
      "\u001b[0;31mKeyError\u001b[0m: 'PERPLEXITY_API_KEY'"
     ]
    }
   ],
   "source": [
    "# Instantiating the chat model\n",
    "chat_model = ChatOpenAI(api_key = os.environ['PERPLEXITY_API_KEY'],\n",
    "                        base_url = 'https://api.perplexity.ai',\n",
    "                        model = 'llama-3.1-70b-instruct')"
   ]
  },
  {
   "cell_type": "code",
   "execution_count": 6,
   "metadata": {},
   "outputs": [],
   "source": [
    "# Defining the question-answer generation prompt\n",
    "QA_GENERATION_PROMPT = '''Task:\n",
    "Generate a single plausible question and answer pair based on the following knowledge item. Ensure that the question is one that would be commonly asked by a human.\n",
    "\n",
    "Instructions:\n",
    "    - Export the question and answer pair as a JSON object.\n",
    "    - Formulate an answer solely based on the information given in the knowledge item text.\n",
    "    - Do not add any external knowledge.\n",
    "    - Do not return any other text, like \"Here is the question answer pair.\"\n",
    "    - Please follow the example set below.\n",
    "\n",
    "Example:\n",
    "\\{{\n",
    "  \"question\": \"What is the capital of France?\",\n",
    "  \"answer\": \"Paris\"\n",
    "\\}}\n",
    "\n",
    "Knowledge item topic:\n",
    "{ki_topic}\n",
    "\n",
    "Knowledge item text:\n",
    "{ki_text}\n",
    "'''\n",
    "\n",
    "# Creating the question-answer generation prompt template\n",
    "qa_generation_prompt_template = ChatPromptTemplate.from_messages(messages = [\n",
    "    HumanMessagePromptTemplate.from_template(template = QA_GENERATION_PROMPT)\n",
    "])"
   ]
  },
  {
   "cell_type": "code",
   "execution_count": null,
   "metadata": {},
   "outputs": [],
   "source": []
  }
 ],
 "metadata": {
  "kernelspec": {
   "display_name": "Python 3",
   "language": "python",
   "name": "python3"
  },
  "language_info": {
   "codemirror_mode": {
    "name": "ipython",
    "version": 3
   },
   "file_extension": ".py",
   "mimetype": "text/x-python",
   "name": "python",
   "nbconvert_exporter": "python",
   "pygments_lexer": "ipython3",
   "version": "3.11.9"
  }
 },
 "nbformat": 4,
 "nbformat_minor": 2
}
