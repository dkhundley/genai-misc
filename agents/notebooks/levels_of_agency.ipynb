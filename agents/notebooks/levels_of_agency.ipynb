{
 "cells": [
  {
   "cell_type": "markdown",
   "id": "6873c7b3",
   "metadata": {},
   "source": [
    "# Levels of Agency\n",
    "In this notebook, we will be covering **AI agents**, and more specifically, we will be talking about the **various levels of AI agency**. Because there is not particularly an agreed upon standard for these various levels, we're going to operate from [Hugging Face's Smolagents blog post entitled \"What are agents?\"](https://huggingface.co/docs/smolagents/en/index) as a foundation for our work here. I think they do a great job at proposing a framework in their blog post, so I want to expand upon it here, grounding our intuition with working code.\n",
    "\n",
    "In the blog post, you'll see that they offer a table with stars rating each agent level. I love how they laid it out like this, and we will expand on each of these in each of the respective sections below. The one piece that I think might be a bit too simple is the star rating. I think the order in which they have all their options listed is definitely spot on, but when I see that the \"two-star\" items are listed as if they're equivalent... I would personally say one has a \"stronger\" agency level than the other. That said, I would expand it to a **five level scale**:\n",
    "\n",
    "- **Level 0**: This would essentially represent zero agency. Many GenAI solutions you interact with are probably operating at level 0. To be clear, level 0 doesn't imply \"badness\"; it simply notes that the AI has no rights to agency in any capacity.\n",
    "- **Level 1**: This would match the \"one-star\" row in Hugging Face's blog post, and they call it well as a \"router\". Basically, you're giving the AI a set of choices to make, it picks from that set, and the interaction ends, period.\n",
    "- **Level 2**: This would match the first \"two-star\" row in the blog post labeled as \"Tool Call\". This one is similar to level 1, but it does take it a step further by providing additional insight (read: *agency*) to the tool as it is called.\n",
    "\n",
    "If you left that overview kinda scratching your head, I'm hoping the remainder of the notebook"
   ]
  },
  {
   "cell_type": "code",
   "execution_count": null,
   "id": "4bc9b55c",
   "metadata": {},
   "outputs": [],
   "source": []
  },
  {
   "cell_type": "code",
   "execution_count": null,
   "id": "92da2a6c",
   "metadata": {},
   "outputs": [],
   "source": []
  },
  {
   "cell_type": "code",
   "execution_count": null,
   "metadata": {},
   "outputs": [],
   "source": []
  }
 ],
 "metadata": {
  "kernelspec": {
   "display_name": "genai_misc_venv",
   "language": "python",
   "name": "genai_misc_venv"
  },
  "language_info": {
   "name": "python",
   "version": "3.12.9"
  }
 },
 "nbformat": 4,
 "nbformat_minor": 5
}
