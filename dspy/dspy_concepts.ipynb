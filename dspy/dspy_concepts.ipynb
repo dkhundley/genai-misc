{
 "cells": [
  {
   "cell_type": "markdown",
   "metadata": {},
   "source": [
    "# DSPy Concepts"
   ]
  },
  {
   "cell_type": "markdown",
   "metadata": {},
   "source": [
    "## Notebook Setup"
   ]
  },
  {
   "cell_type": "code",
   "execution_count": 1,
   "metadata": {},
   "outputs": [
    {
     "name": "stderr",
     "output_type": "stream",
     "text": [
      "/home/vscode/.local/lib/python3.11/site-packages/tqdm/auto.py:21: TqdmWarning: IProgress not found. Please update jupyter and ipywidgets. See https://ipywidgets.readthedocs.io/en/stable/user_install.html\n",
      "  from .autonotebook import tqdm as notebook_tqdm\n"
     ]
    }
   ],
   "source": [
    "# Importing the necessary Python libraries\n",
    "import os\n",
    "import json\n",
    "\n",
    "import dspy"
   ]
  },
  {
   "cell_type": "markdown",
   "metadata": {},
   "source": [
    "## DSPy \"Settings\""
   ]
  },
  {
   "cell_type": "code",
   "execution_count": null,
   "metadata": {},
   "outputs": [],
   "source": [
    "llm = dspy.LM(model = 'openai/gpt-4o-mini')"
   ]
  },
  {
   "cell_type": "code",
   "execution_count": null,
   "metadata": {},
   "outputs": [],
   "source": []
  },
  {
   "cell_type": "code",
   "execution_count": null,
   "metadata": {},
   "outputs": [],
   "source": []
  },
  {
   "cell_type": "code",
   "execution_count": null,
   "metadata": {},
   "outputs": [],
   "source": []
  },
  {
   "cell_type": "code",
   "execution_count": null,
   "metadata": {},
   "outputs": [],
   "source": []
  },
  {
   "cell_type": "markdown",
   "metadata": {},
   "source": [
    "### Setting DSPy Examples\n",
    "\n",
    "Examples have three attributes:\n",
    "- `_store`: This contains the key-value pairs that represents example that can manifest however you want. You do have to explicitly set things as inputs (`input_keys`) if you'd prefer to have them recognized that way.\n",
    "- `_demos`: Not implemented (it seems)\n",
    "- `_input_keys`: We pass in key-value pairs to populate the Example `_store`, so this indicates which of those keys from those key-value pairs should be recognized explicitly as inputs."
   ]
  },
  {
   "cell_type": "code",
   "execution_count": 4,
   "metadata": {},
   "outputs": [
    {
     "name": "stdout",
     "output_type": "stream",
     "text": [
      "Example({'question': 'What is the capital of France?', 'answer': 'The capital of France is Paris.'}) (input_keys=None)\n",
      "What is the capital of France?\n",
      "The capital of France is Paris.\n"
     ]
    }
   ],
   "source": [
    "test_example = dspy.Example(question = 'What is the capital of France?',\n",
    "                            answer = 'The capital of France is Paris.')\n",
    "\n",
    "print(test_example)\n",
    "print(test_example.question)\n",
    "print(test_example.answer)"
   ]
  },
  {
   "cell_type": "code",
   "execution_count": 5,
   "metadata": {},
   "outputs": [
    {
     "name": "stdout",
     "output_type": "stream",
     "text": [
      "Example({'question': 'What is the capital of France?', 'answer': 'The capital of France is Paris.'}) (input_keys=None)\n",
      "What is the capital of France?\n",
      "The capital of France is Paris.\n"
     ]
    }
   ],
   "source": [
    "sample_question = {\n",
    "    'question': 'What is the capital of France?',\n",
    "    'answer': 'The capital of France is Paris.'\n",
    "}\n",
    "\n",
    "test_example = dspy.Example(sample_question)\n",
    "\n",
    "print(test_example)\n",
    "print(test_example.question)\n",
    "print(test_example.answer)"
   ]
  },
  {
   "cell_type": "code",
   "execution_count": 7,
   "metadata": {},
   "outputs": [
    {
     "name": "stdout",
     "output_type": "stream",
     "text": [
      "Example({'question': 'What is the capital of France?', 'answer': 'The capital of France is Paris.'}) (input_keys=None)\n",
      "What is the capital of France?\n",
      "The capital of France is Paris.\n"
     ]
    }
   ],
   "source": [
    "test_example_2 = dspy.Example(test_example)\n",
    "\n",
    "print(test_example_2)\n",
    "print(test_example_2.question)\n",
    "print(test_example_2.answer)"
   ]
  },
  {
   "cell_type": "code",
   "execution_count": 9,
   "metadata": {},
   "outputs": [],
   "source": [
    "test = dspy.Example()"
   ]
  },
  {
   "cell_type": "markdown",
   "metadata": {},
   "source": [
    "## Signatures"
   ]
  },
  {
   "cell_type": "code",
   "execution_count": null,
   "metadata": {},
   "outputs": [],
   "source": []
  },
  {
   "cell_type": "code",
   "execution_count": null,
   "metadata": {},
   "outputs": [],
   "source": []
  },
  {
   "cell_type": "code",
   "execution_count": null,
   "metadata": {},
   "outputs": [],
   "source": []
  },
  {
   "cell_type": "markdown",
   "metadata": {},
   "source": [
    "## Predict"
   ]
  },
  {
   "cell_type": "code",
   "execution_count": null,
   "metadata": {},
   "outputs": [],
   "source": []
  }
 ],
 "metadata": {
  "kernelspec": {
   "display_name": "Python 3",
   "language": "python",
   "name": "python3"
  },
  "language_info": {
   "codemirror_mode": {
    "name": "ipython",
    "version": 3
   },
   "file_extension": ".py",
   "mimetype": "text/x-python",
   "name": "python",
   "nbconvert_exporter": "python",
   "pygments_lexer": "ipython3",
   "version": "3.11.10"
  }
 },
 "nbformat": 4,
 "nbformat_minor": 2
}
