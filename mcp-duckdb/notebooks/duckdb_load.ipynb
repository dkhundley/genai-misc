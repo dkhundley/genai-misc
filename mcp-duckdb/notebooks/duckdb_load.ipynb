{
 "cells": [
  {
   "cell_type": "code",
   "execution_count": 1,
   "id": "30312c4f",
   "metadata": {},
   "outputs": [
    {
     "data": {
      "text/plain": [
       "<duckdb.duckdb.DuckDBPyConnection at 0x1111b8030>"
      ]
     },
     "execution_count": 1,
     "metadata": {},
     "output_type": "execute_result"
    }
   ],
   "source": [
    "import polars as pl\n",
    "import duckdb\n",
    "\n",
    "# Load CSV as Polars DataFrame\n",
    "df_netflix = pl.read_csv('../data/netflix_data.csv')\n",
    "\n",
    "# Register Polars DataFrame as DuckDB view\n",
    "con = duckdb.connect()\n",
    "con.register('netflix', df_netflix)"
   ]
  },
  {
   "cell_type": "code",
   "execution_count": 2,
   "id": "0a22a4cd",
   "metadata": {},
   "outputs": [
    {
     "data": {
      "application/vnd.microsoft.datawrangler.viewer.v0+json": {
       "columns": [
        {
         "name": "index",
         "rawType": "int64",
         "type": "integer"
        },
        {
         "name": "title",
         "rawType": "object",
         "type": "string"
        },
        {
         "name": "tmdb_score",
         "rawType": "float64",
         "type": "float"
        }
       ],
       "ref": "3e7de47a-139e-44fe-aacd-20e20f1b6780",
       "rows": [
        [
         "0",
         "True: Friendship Day",
         "10.0"
        ],
        [
         "1",
         "Fate of Alakada",
         "10.0"
        ],
        [
         "2",
         "Thomas & Friends: Full Steam To The Rescue!",
         "10.0"
        ],
        [
         "3",
         "Motu Patlu the Superheroes – Super Villains from Mars",
         "10.0"
        ],
        [
         "4",
         "Motu Patlu in the Game of Zones",
         "10.0"
        ],
        [
         "5",
         "Octonauts and the Great Barrier Reef",
         "10.0"
        ],
        [
         "6",
         "Uncle Naji in UAE",
         "10.0"
        ],
        [
         "7",
         "The Circle: The Afterparty",
         "10.0"
        ],
        [
         "8",
         "True: Rainbow Rescue",
         "10.0"
        ],
        [
         "9",
         "Just in Time",
         "10.0"
        ]
       ],
       "shape": {
        "columns": 2,
        "rows": 10
       }
      },
      "text/html": [
       "<div>\n",
       "<style scoped>\n",
       "    .dataframe tbody tr th:only-of-type {\n",
       "        vertical-align: middle;\n",
       "    }\n",
       "\n",
       "    .dataframe tbody tr th {\n",
       "        vertical-align: top;\n",
       "    }\n",
       "\n",
       "    .dataframe thead th {\n",
       "        text-align: right;\n",
       "    }\n",
       "</style>\n",
       "<table border=\"1\" class=\"dataframe\">\n",
       "  <thead>\n",
       "    <tr style=\"text-align: right;\">\n",
       "      <th></th>\n",
       "      <th>title</th>\n",
       "      <th>tmdb_score</th>\n",
       "    </tr>\n",
       "  </thead>\n",
       "  <tbody>\n",
       "    <tr>\n",
       "      <th>0</th>\n",
       "      <td>True: Friendship Day</td>\n",
       "      <td>10.0</td>\n",
       "    </tr>\n",
       "    <tr>\n",
       "      <th>1</th>\n",
       "      <td>Fate of Alakada</td>\n",
       "      <td>10.0</td>\n",
       "    </tr>\n",
       "    <tr>\n",
       "      <th>2</th>\n",
       "      <td>Thomas &amp; Friends: Full Steam To The Rescue!</td>\n",
       "      <td>10.0</td>\n",
       "    </tr>\n",
       "    <tr>\n",
       "      <th>3</th>\n",
       "      <td>Motu Patlu the Superheroes – Super Villains fr...</td>\n",
       "      <td>10.0</td>\n",
       "    </tr>\n",
       "    <tr>\n",
       "      <th>4</th>\n",
       "      <td>Motu Patlu in the Game of Zones</td>\n",
       "      <td>10.0</td>\n",
       "    </tr>\n",
       "    <tr>\n",
       "      <th>5</th>\n",
       "      <td>Octonauts and the Great Barrier Reef</td>\n",
       "      <td>10.0</td>\n",
       "    </tr>\n",
       "    <tr>\n",
       "      <th>6</th>\n",
       "      <td>Uncle Naji in UAE</td>\n",
       "      <td>10.0</td>\n",
       "    </tr>\n",
       "    <tr>\n",
       "      <th>7</th>\n",
       "      <td>The Circle: The Afterparty</td>\n",
       "      <td>10.0</td>\n",
       "    </tr>\n",
       "    <tr>\n",
       "      <th>8</th>\n",
       "      <td>True: Rainbow Rescue</td>\n",
       "      <td>10.0</td>\n",
       "    </tr>\n",
       "    <tr>\n",
       "      <th>9</th>\n",
       "      <td>Just in Time</td>\n",
       "      <td>10.0</td>\n",
       "    </tr>\n",
       "  </tbody>\n",
       "</table>\n",
       "</div>"
      ],
      "text/plain": [
       "                                               title  tmdb_score\n",
       "0                               True: Friendship Day        10.0\n",
       "1                                    Fate of Alakada        10.0\n",
       "2        Thomas & Friends: Full Steam To The Rescue!        10.0\n",
       "3  Motu Patlu the Superheroes – Super Villains fr...        10.0\n",
       "4                    Motu Patlu in the Game of Zones        10.0\n",
       "5               Octonauts and the Great Barrier Reef        10.0\n",
       "6                                  Uncle Naji in UAE        10.0\n",
       "7                         The Circle: The Afterparty        10.0\n",
       "8                               True: Rainbow Rescue        10.0\n",
       "9                                       Just in Time        10.0"
      ]
     },
     "execution_count": 2,
     "metadata": {},
     "output_type": "execute_result"
    }
   ],
   "source": [
    "query = \"\"\"\n",
    "SELECT title, tmdb_score\n",
    "FROM netflix\n",
    "WHERE type = 'MOVIE' AND tmdb_score IS NOT NULL\n",
    "ORDER BY tmdb_score DESC\n",
    "LIMIT 10\n",
    "\"\"\"\n",
    "top_movies = con.execute(query).fetchdf()\n",
    "top_movies"
   ]
  },
  {
   "cell_type": "code",
   "execution_count": 3,
   "id": "4b6b8edb",
   "metadata": {},
   "outputs": [],
   "source": [
    "df_schema = con.execute('DESCRIBE netflix;').fetchdf()"
   ]
  },
  {
   "cell_type": "code",
   "execution_count": 4,
   "id": "cee28b89",
   "metadata": {},
   "outputs": [
    {
     "data": {
      "application/vnd.microsoft.datawrangler.viewer.v0+json": {
       "columns": [
        {
         "name": "index",
         "rawType": "int64",
         "type": "integer"
        },
        {
         "name": "column_name",
         "rawType": "object",
         "type": "string"
        },
        {
         "name": "column_type",
         "rawType": "object",
         "type": "string"
        },
        {
         "name": "null",
         "rawType": "object",
         "type": "string"
        },
        {
         "name": "key",
         "rawType": "object",
         "type": "unknown"
        },
        {
         "name": "default",
         "rawType": "object",
         "type": "unknown"
        },
        {
         "name": "extra",
         "rawType": "object",
         "type": "unknown"
        }
       ],
       "ref": "0d19f32a-0388-4fe0-a8ed-c7eed1d35415",
       "rows": [
        [
         "0",
         "id",
         "VARCHAR",
         "YES",
         null,
         null,
         null
        ],
        [
         "1",
         "title",
         "VARCHAR",
         "YES",
         null,
         null,
         null
        ],
        [
         "2",
         "type",
         "VARCHAR",
         "YES",
         null,
         null,
         null
        ],
        [
         "3",
         "description",
         "VARCHAR",
         "YES",
         null,
         null,
         null
        ],
        [
         "4",
         "release_year",
         "BIGINT",
         "YES",
         null,
         null,
         null
        ],
        [
         "5",
         "age_certification",
         "VARCHAR",
         "YES",
         null,
         null,
         null
        ],
        [
         "6",
         "runtime",
         "BIGINT",
         "YES",
         null,
         null,
         null
        ],
        [
         "7",
         "genres",
         "VARCHAR",
         "YES",
         null,
         null,
         null
        ],
        [
         "8",
         "production_countries",
         "VARCHAR",
         "YES",
         null,
         null,
         null
        ],
        [
         "9",
         "seasons",
         "DOUBLE",
         "YES",
         null,
         null,
         null
        ],
        [
         "10",
         "imdb_id",
         "VARCHAR",
         "YES",
         null,
         null,
         null
        ],
        [
         "11",
         "imdb_score",
         "DOUBLE",
         "YES",
         null,
         null,
         null
        ],
        [
         "12",
         "imdb_votes",
         "DOUBLE",
         "YES",
         null,
         null,
         null
        ],
        [
         "13",
         "tmdb_popularity",
         "DOUBLE",
         "YES",
         null,
         null,
         null
        ],
        [
         "14",
         "tmdb_score",
         "DOUBLE",
         "YES",
         null,
         null,
         null
        ]
       ],
       "shape": {
        "columns": 6,
        "rows": 15
       }
      },
      "text/html": [
       "<div>\n",
       "<style scoped>\n",
       "    .dataframe tbody tr th:only-of-type {\n",
       "        vertical-align: middle;\n",
       "    }\n",
       "\n",
       "    .dataframe tbody tr th {\n",
       "        vertical-align: top;\n",
       "    }\n",
       "\n",
       "    .dataframe thead th {\n",
       "        text-align: right;\n",
       "    }\n",
       "</style>\n",
       "<table border=\"1\" class=\"dataframe\">\n",
       "  <thead>\n",
       "    <tr style=\"text-align: right;\">\n",
       "      <th></th>\n",
       "      <th>column_name</th>\n",
       "      <th>column_type</th>\n",
       "      <th>null</th>\n",
       "      <th>key</th>\n",
       "      <th>default</th>\n",
       "      <th>extra</th>\n",
       "    </tr>\n",
       "  </thead>\n",
       "  <tbody>\n",
       "    <tr>\n",
       "      <th>0</th>\n",
       "      <td>id</td>\n",
       "      <td>VARCHAR</td>\n",
       "      <td>YES</td>\n",
       "      <td>None</td>\n",
       "      <td>None</td>\n",
       "      <td>None</td>\n",
       "    </tr>\n",
       "    <tr>\n",
       "      <th>1</th>\n",
       "      <td>title</td>\n",
       "      <td>VARCHAR</td>\n",
       "      <td>YES</td>\n",
       "      <td>None</td>\n",
       "      <td>None</td>\n",
       "      <td>None</td>\n",
       "    </tr>\n",
       "    <tr>\n",
       "      <th>2</th>\n",
       "      <td>type</td>\n",
       "      <td>VARCHAR</td>\n",
       "      <td>YES</td>\n",
       "      <td>None</td>\n",
       "      <td>None</td>\n",
       "      <td>None</td>\n",
       "    </tr>\n",
       "    <tr>\n",
       "      <th>3</th>\n",
       "      <td>description</td>\n",
       "      <td>VARCHAR</td>\n",
       "      <td>YES</td>\n",
       "      <td>None</td>\n",
       "      <td>None</td>\n",
       "      <td>None</td>\n",
       "    </tr>\n",
       "    <tr>\n",
       "      <th>4</th>\n",
       "      <td>release_year</td>\n",
       "      <td>BIGINT</td>\n",
       "      <td>YES</td>\n",
       "      <td>None</td>\n",
       "      <td>None</td>\n",
       "      <td>None</td>\n",
       "    </tr>\n",
       "    <tr>\n",
       "      <th>5</th>\n",
       "      <td>age_certification</td>\n",
       "      <td>VARCHAR</td>\n",
       "      <td>YES</td>\n",
       "      <td>None</td>\n",
       "      <td>None</td>\n",
       "      <td>None</td>\n",
       "    </tr>\n",
       "    <tr>\n",
       "      <th>6</th>\n",
       "      <td>runtime</td>\n",
       "      <td>BIGINT</td>\n",
       "      <td>YES</td>\n",
       "      <td>None</td>\n",
       "      <td>None</td>\n",
       "      <td>None</td>\n",
       "    </tr>\n",
       "    <tr>\n",
       "      <th>7</th>\n",
       "      <td>genres</td>\n",
       "      <td>VARCHAR</td>\n",
       "      <td>YES</td>\n",
       "      <td>None</td>\n",
       "      <td>None</td>\n",
       "      <td>None</td>\n",
       "    </tr>\n",
       "    <tr>\n",
       "      <th>8</th>\n",
       "      <td>production_countries</td>\n",
       "      <td>VARCHAR</td>\n",
       "      <td>YES</td>\n",
       "      <td>None</td>\n",
       "      <td>None</td>\n",
       "      <td>None</td>\n",
       "    </tr>\n",
       "    <tr>\n",
       "      <th>9</th>\n",
       "      <td>seasons</td>\n",
       "      <td>DOUBLE</td>\n",
       "      <td>YES</td>\n",
       "      <td>None</td>\n",
       "      <td>None</td>\n",
       "      <td>None</td>\n",
       "    </tr>\n",
       "    <tr>\n",
       "      <th>10</th>\n",
       "      <td>imdb_id</td>\n",
       "      <td>VARCHAR</td>\n",
       "      <td>YES</td>\n",
       "      <td>None</td>\n",
       "      <td>None</td>\n",
       "      <td>None</td>\n",
       "    </tr>\n",
       "    <tr>\n",
       "      <th>11</th>\n",
       "      <td>imdb_score</td>\n",
       "      <td>DOUBLE</td>\n",
       "      <td>YES</td>\n",
       "      <td>None</td>\n",
       "      <td>None</td>\n",
       "      <td>None</td>\n",
       "    </tr>\n",
       "    <tr>\n",
       "      <th>12</th>\n",
       "      <td>imdb_votes</td>\n",
       "      <td>DOUBLE</td>\n",
       "      <td>YES</td>\n",
       "      <td>None</td>\n",
       "      <td>None</td>\n",
       "      <td>None</td>\n",
       "    </tr>\n",
       "    <tr>\n",
       "      <th>13</th>\n",
       "      <td>tmdb_popularity</td>\n",
       "      <td>DOUBLE</td>\n",
       "      <td>YES</td>\n",
       "      <td>None</td>\n",
       "      <td>None</td>\n",
       "      <td>None</td>\n",
       "    </tr>\n",
       "    <tr>\n",
       "      <th>14</th>\n",
       "      <td>tmdb_score</td>\n",
       "      <td>DOUBLE</td>\n",
       "      <td>YES</td>\n",
       "      <td>None</td>\n",
       "      <td>None</td>\n",
       "      <td>None</td>\n",
       "    </tr>\n",
       "  </tbody>\n",
       "</table>\n",
       "</div>"
      ],
      "text/plain": [
       "             column_name column_type null   key default extra\n",
       "0                     id     VARCHAR  YES  None    None  None\n",
       "1                  title     VARCHAR  YES  None    None  None\n",
       "2                   type     VARCHAR  YES  None    None  None\n",
       "3            description     VARCHAR  YES  None    None  None\n",
       "4           release_year      BIGINT  YES  None    None  None\n",
       "5      age_certification     VARCHAR  YES  None    None  None\n",
       "6                runtime      BIGINT  YES  None    None  None\n",
       "7                 genres     VARCHAR  YES  None    None  None\n",
       "8   production_countries     VARCHAR  YES  None    None  None\n",
       "9                seasons      DOUBLE  YES  None    None  None\n",
       "10               imdb_id     VARCHAR  YES  None    None  None\n",
       "11            imdb_score      DOUBLE  YES  None    None  None\n",
       "12            imdb_votes      DOUBLE  YES  None    None  None\n",
       "13       tmdb_popularity      DOUBLE  YES  None    None  None\n",
       "14            tmdb_score      DOUBLE  YES  None    None  None"
      ]
     },
     "execution_count": 4,
     "metadata": {},
     "output_type": "execute_result"
    }
   ],
   "source": [
    "df_schema"
   ]
  },
  {
   "cell_type": "code",
   "execution_count": null,
   "id": "da20d33c",
   "metadata": {},
   "outputs": [],
   "source": []
  }
 ],
 "metadata": {
  "kernelspec": {
   "display_name": "genai_misc_venv",
   "language": "python",
   "name": "genai_misc_venv"
  },
  "language_info": {
   "codemirror_mode": {
    "name": "ipython",
    "version": 3
   },
   "file_extension": ".py",
   "mimetype": "text/x-python",
   "name": "python",
   "nbconvert_exporter": "python",
   "pygments_lexer": "ipython3",
   "version": "3.12.9"
  }
 },
 "nbformat": 4,
 "nbformat_minor": 5
}
